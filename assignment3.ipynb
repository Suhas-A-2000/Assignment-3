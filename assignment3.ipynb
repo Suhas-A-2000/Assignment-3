{
 "cells": [
  {
   "cell_type": "markdown",
   "metadata": {},
   "source": [
    "Question 1"
   ]
  },
  {
   "cell_type": "code",
   "execution_count": 3,
   "metadata": {},
   "outputs": [
    {
     "name": "stdout",
     "output_type": "stream",
     "text": [
      "[ 2  5  8 11 14 17 20 23 26 29 32 35 38 41 44 47 50]\n"
     ]
    }
   ],
   "source": [
    "# printing an array from 2 - 50 with a step size of 3\n",
    "\n",
    "import numpy as np\n",
    "print(np.arange(2,51,3))"
   ]
  },
  {
   "cell_type": "markdown",
   "metadata": {},
   "source": [
    "Question 2"
   ]
  },
  {
   "cell_type": "code",
   "execution_count": null,
   "metadata": {},
   "outputs": [],
   "source": [
    "# Accept 2 lists each of 5 elements and convert it into numpy array and concatenate and sort the array\n",
    "\n",
    "list1 = []\n",
    "list2 = []\n",
    "for i in range(5):\n",
    "    list1.append(int(input()))\n",
    "for j in range(5):\n",
    "    list2.append(int(input()))\n",
    "arr1 = np.array(list1)\n",
    "arr2 = np.array(list2)\n",
    "arr3 = np.concatenate((arr1, arr2))\n",
    "print(arr3)\n",
    "arr = np.sort(arr3)\n",
    "print(arr)"
   ]
  },
  {
   "cell_type": "markdown",
   "metadata": {},
   "source": [
    "Question 3"
   ]
  },
  {
   "cell_type": "code",
   "execution_count": null,
   "metadata": {},
   "outputs": [],
   "source": [
    "# create an array and find its dimension and size.\n",
    "\n",
    "arr = np.array([[1,2,3],[7,8,9],[4,5,6]])\n",
    "print(arr.ndim)\n",
    "print(arr.size)"
   ]
  },
  {
   "cell_type": "markdown",
   "metadata": {},
   "source": [
    "Question 4"
   ]
  },
  {
   "cell_type": "code",
   "execution_count": null,
   "metadata": {},
   "outputs": [],
   "source": [
    "# code snippet to convert 1D array to 2D array using np.newaxis, np.expand_dims.\n",
    "\n",
    "# using np.newaxis\n",
    "arr = np.array([1,3,2,8,9,10,4,6,5])\n",
    "print(arr)\n",
    "print(arr.shape)\n",
    "arr1 = arr[:, np.newaxis]\n",
    "print(arr1)\n",
    "print(arr1.shape)\n",
    "arr2 = arr[np.newaxis, :]\n",
    "print(arr2)\n",
    "print(arr2.shape)"
   ]
  },
  {
   "cell_type": "code",
   "execution_count": null,
   "metadata": {},
   "outputs": [],
   "source": [
    "# using np.expand_dims \n",
    "\n",
    "x = np.ones((4, 4))\n",
    "print(x)\n",
    "print(x.shape)\n",
    "y = np.expand_dims(x, axis=1)\n",
    "print(y)\n",
    "print(y.shape)"
   ]
  },
  {
   "cell_type": "markdown",
   "metadata": {},
   "source": [
    "Question 5"
   ]
  },
  {
   "cell_type": "code",
   "execution_count": 6,
   "metadata": {},
   "outputs": [
    {
     "name": "stdout",
     "output_type": "stream",
     "text": [
      "[[ 1  2  3  2  4  6]\n",
      " [ 4  5  6  8 10 12]]\n",
      "[[ 1  2  3]\n",
      " [ 4  5  6]\n",
      " [ 2  4  6]\n",
      " [ 8 10 12]]\n"
     ]
    }
   ],
   "source": [
    "# Consider two square arrays and stack them vertically and horixontally\n",
    "\n",
    "x = np.array([[1,2,3],[4,5,6]])\n",
    "y = np.array([[2,4,6],[8,10,12]])\n",
    "print(np.hstack((x,y)))\n",
    "print(np.vstack((x,y)))"
   ]
  },
  {
   "cell_type": "markdown",
   "metadata": {},
   "source": [
    "Question 6"
   ]
  },
  {
   "cell_type": "code",
   "execution_count": null,
   "metadata": {},
   "outputs": [],
   "source": [
    "# to get unique items and to count it\n",
    "\n",
    "arr = np.array([1,1,1,1,3,3,2,2,4,5,67,89,900,00,100,100,4])\n",
    "unique,count =np.unique(arr,return_counts=True)\n",
    "print('unique elements are ',unique)\n",
    "print('Counts of the above elements are in the same order',count) "
   ]
  }
 ],
 "metadata": {
  "kernelspec": {
   "display_name": "Python 3",
   "language": "python",
   "name": "python3"
  },
  "language_info": {
   "codemirror_mode": {
    "name": "ipython",
    "version": 3
   },
   "file_extension": ".py",
   "mimetype": "text/x-python",
   "name": "python",
   "nbconvert_exporter": "python",
   "pygments_lexer": "ipython3",
   "version": "3.8.3"
  }
 },
 "nbformat": 4,
 "nbformat_minor": 4
}
